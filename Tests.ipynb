{
 "cells": [
  {
   "cell_type": "code",
   "execution_count": 4,
   "id": "d3fe425e-75c6-464e-ace5-43f761f91483",
   "metadata": {},
   "outputs": [
    {
     "name": "stderr",
     "output_type": "stream",
     "text": [
      "\u001b[32m\u001b[1m  Activating\u001b[22m\u001b[39m project at `~/LEGEND/ZeroNuFit.jl`\n",
      "\u001b[36m\u001b[1m[ \u001b[22m\u001b[39m\u001b[36m\u001b[1mInfo: \u001b[22m\u001b[39mPrecompiling IJuliaExt [2f4121a4-3b3a-5ce6-9c5e-1f2673ce168a]\n"
     ]
    }
   ],
   "source": [
    "using Pkg\n",
    "Pkg.activate(\".\") # Activate the environment\n",
    "using ArgParse\n",
    "using Logging, LoggingExtras\n",
    "using JSON\n",
    "using FilePathsBase\n",
    "using DataStructures\n",
    "using PropDicts\n",
    "using Tables\n",
    "using TypedTables\n",
    "using LegendDataManagement\n",
    "using Random, LinearAlgebra, Statistics, Distributions, StatsBase\n",
    "using BAT, DensityInterface, IntervalSets\n",
    "using TypedTables\n",
    "using Plots\n",
    "using Cuba"
   ]
  },
  {
   "cell_type": "code",
   "execution_count": 18,
   "id": "f28fa94d-2056-40b8-8c9a-6ce0a60500d4",
   "metadata": {},
   "outputs": [
    {
     "data": {
      "text/plain": [
       "build_prior (generic function with 1 method)"
      ]
     },
     "execution_count": 18,
     "metadata": {},
     "output_type": "execute_result"
    }
   ],
   "source": [
    "function build_prior(partitions;config,stat_only=false)\n",
    "\"\"\"\n",
    "Builds the priors for use in the fit\n",
    "Parameters\n",
    "    - partitions:Table of the partition info\n",
    "    - config: the Dict of the fit config\n",
    "    - stat_only; a bool for whether systematic uncertatinties are considered on energy scale\n",
    "\"\"\"\n",
    "    res=[]\n",
    "    bias=[]\n",
    "    for part in partitions\n",
    "        append!(res,[Normal(part.fwhm/2.355,part.fwhm_sigma/2.355)])\n",
    "        append!(bias,[Normal(part.bias,part.bias_sigma)])\n",
    "    end\n",
    "    if (stat_only==false)\n",
    "        return distprod(S=0..config[\"upper_signal\"],B=0..config[\"upper_bkg\"], res= fill(0..10, length(partitions)),\n",
    "    bias= fill(-2..2,length(partitions)))\n",
    "    else \n",
    "        distprod(S=0..config[\"upper_signal\"],B=0..config[\"upper_bkg\"])\n",
    "    end\n",
    "    \n",
    "\n",
    "\n",
    "end"
   ]
  },
  {
   "cell_type": "code",
   "execution_count": 22,
   "id": "0c2fc920-f838-4daa-b8f2-735771eed00d",
   "metadata": {},
   "outputs": [
    {
     "name": "stdout",
     "output_type": "stream",
     "text": [
      "[1, 2, 3, 4, 5, 6, 7, 8, 9, 10][1.0, 1.0, 1.0, 1.0, 1.0, 1.0, 1.0, 1.0, 1.0, 1.0]\n",
      "Normal{Float64}[Normal{Float64}(μ=1.0, σ=1.0), Normal{Float64}(μ=2.0, σ=1.0), Normal{Float64}(μ=3.0, σ=1.0), Normal{Float64}(μ=4.0, σ=1.0), Normal{Float64}(μ=5.0, σ=1.0), Normal{Float64}(μ=6.0, σ=1.0), Normal{Float64}(μ=7.0, σ=1.0), Normal{Float64}(μ=8.0, σ=1.0), Normal{Float64}(μ=9.0, σ=1.0), Normal{Float64}(μ=10.0, σ=1.0)]\n"
     ]
    },
    {
     "data": {
      "text/plain": [
       "NamedTupleDist((S = Uniform{Float64}(a=0.0, b=1.0), B = Uniform{Float64}(a=0.0, b=1.0), res = Product{Continuous, Uniform{Float64}, Vector{Uniform{Float64}}}(v=Uniform{Float64}[Uniform{Float64}(a=0.0, b=10.0)]), bias = DiagNormal(\n",
       "dim: 10\n",
       "μ: [1.0, 2.0, 3.0, 4.0, 5.0, 6.0, 7.0, 8.0, 9.0, 10.0]\n",
       "Σ: [1.0 0.0 … 0.0 0.0; 0.0 1.0 … 0.0 0.0; … ; 0.0 0.0 … 1.0 0.0; 0.0 0.0 … 0.0 1.0]\n",
       ")\n",
       "))"
      ]
     },
     "execution_count": 22,
     "metadata": {},
     "output_type": "execute_result"
    }
   ],
   "source": [
    "mu = [1,2,3,4,5,6,7,8,9,10]\n",
    "sigma=ones(10)\n",
    "print(mu,sigma)\n",
    "res_list = Vector{Normal{Float64}}(undef,length(mu))\n",
    "\n",
    "for (i,(m,s)) in enumerate(zip(mu,sigma))\n",
    "    res_list[i]=Normal(m,s)\n",
    "end\n",
    "\n",
    "print(\"\\n\")\n",
    "println(res_list)\n",
    "distprod(S=0..1,B=0..1, res= fill(0..10, length(10)),\n",
    "    bias= res_list)\n"
   ]
  },
  {
   "cell_type": "code",
   "execution_count": 39,
   "id": "a7f5f78e-d09c-4167-8c66-a2a1154b65f0",
   "metadata": {},
   "outputs": [
    {
     "data": {
      "text/plain": [
       "Truncated{Normal{Float64}, Continuous, Float64, Float64, Float64}"
      ]
     },
     "execution_count": 39,
     "metadata": {},
     "output_type": "execute_result"
    }
   ],
   "source": [
    "typeof(truncated(Normal(0,1),0,Inf))"
   ]
  },
  {
   "cell_type": "code",
   "execution_count": null,
   "id": "c61a9efd-81b7-4a5d-a58c-70f1df60391b",
   "metadata": {},
   "outputs": [],
   "source": []
  }
 ],
 "metadata": {
  "kernelspec": {
   "display_name": "Julia 1.10.4",
   "language": "julia",
   "name": "julia-1.10"
  },
  "language_info": {
   "file_extension": ".jl",
   "mimetype": "application/julia",
   "name": "julia",
   "version": "1.10.4"
  }
 },
 "nbformat": 4,
 "nbformat_minor": 5
}
