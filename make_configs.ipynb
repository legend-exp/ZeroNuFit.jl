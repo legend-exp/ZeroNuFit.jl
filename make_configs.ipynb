{
 "cells": [
  {
   "cell_type": "code",
   "execution_count": 1,
   "id": "d15d46ac-da13-44ce-883f-5cb91395e252",
   "metadata": {},
   "outputs": [
    {
     "name": "stderr",
     "output_type": "stream",
     "text": [
      "\u001b[32m\u001b[1m  Activating\u001b[22m\u001b[39m project at `~/LEGEND/ZeroNuFit.jl`\n"
     ]
    }
   ],
   "source": [
    "using Pkg\n",
    "Pkg.activate(\".\") # Activate the environment\n",
    "using ArgParse\n",
    "using Logging, LoggingExtras\n",
    "using JSON\n",
    "using FilePathsBase"
   ]
  },
  {
   "cell_type": "markdown",
   "id": "5bb13e46-3c52-40e4-8e66-4fc41cd16ca5",
   "metadata": {},
   "source": [
    "### Notebook to make the configs for the fit\n",
    "This should be converted to a `script.jl` all it does it reformat inputs from L-200, GERDA and Majorana into one common format readble by `ZeroNuFit.jl`"
   ]
  },
  {
   "cell_type": "markdown",
   "id": "6a10f8c0-f508-48a0-9061-b54009419b0f",
   "metadata": {},
   "source": [
    "### Events files\n",
    "First we need files containing the physics events in the three experiments.\n",
    "For L-200 these are not available to the collaboration, so we need to create the file."
   ]
  },
  {
   "cell_type": "code",
   "execution_count": 15,
   "id": "9ab3c861-9a1d-4c24-b5be-bb66ce700861",
   "metadata": {},
   "outputs": [
    {
     "data": {
      "text/plain": [
       "1617"
      ]
     },
     "execution_count": 15,
     "metadata": {},
     "output_type": "execute_result"
    }
   ],
   "source": [
    "function read_events_gerda(file_path)\n",
    "    timestamp=[1455109448, 1457847659, 1472522222, 1475981084, 1480290460,\n",
    "                   1485848926, 1503578885, 1509498133, 1516142805, 1533092526,\n",
    "                   1539047354, 1566823934, 1568276649]\n",
    "    detector=[\"ANG4\", \"GD61C\", \"GD35B\", \"ANG1\", \"GD35B\", \"GD91A\", \"GD76C\",\n",
    "                  \"ANG1\", \"RG1\", \"GD61C\", \"IC74A\", \"ANG4\", \"GD32D\"]\n",
    "    energy=[1995.2452, 1958.6807, 2018.1346, 1950.9419, 2067.9735,\n",
    "                2056.4280, 2042.0641, 1962.7372, 1957.5059, 1970.1398,\n",
    "                2058.8776, 2015.8751, 2012.0643]\n",
    "\n",
    "    output=Dict(\"events\" => [])\n",
    "    for (t,d,e) in zip(timestamp,detector,energy)\n",
    "        append!(output[\"events\"],[Dict(\"timestamp\"=>t,\"energy\"=>e,\"detector\"=>d)])\n",
    "    end\n",
    "    open(file_path, \"w\") do file\n",
    "        write(file, json(output,4))\n",
    "    end\n",
    "end\n",
    "\n",
    "read_events_gerda(\"config/events_gerda.json\")"
   ]
  },
  {
   "cell_type": "markdown",
   "id": "32267068-4524-4f9b-a3a3-df18a191aab2",
   "metadata": {},
   "source": [
    "### Partitions files"
   ]
  },
  {
   "cell_type": "code",
   "execution_count": null,
   "id": "ec3bb725-a279-4638-bb80-9213c1baa95f",
   "metadata": {},
   "outputs": [],
   "source": []
  }
 ],
 "metadata": {
  "kernelspec": {
   "display_name": "Julia 1.10.4",
   "language": "julia",
   "name": "julia-1.10"
  },
  "language_info": {
   "file_extension": ".jl",
   "mimetype": "application/julia",
   "name": "julia",
   "version": "1.10.4"
  }
 },
 "nbformat": 4,
 "nbformat_minor": 5
}
